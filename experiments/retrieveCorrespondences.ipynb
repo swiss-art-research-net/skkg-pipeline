{
 "cells": [
  {
   "cell_type": "code",
   "execution_count": 1,
   "metadata": {},
   "outputs": [],
   "source": [
    "from csv import DictWriter\n",
    "from lxml import etree\n",
    "from os import listdir\n",
    "from os.path import isfile, join\n",
    "from tqdm import tqdm"
   ]
  },
  {
   "cell_type": "code",
   "execution_count": 2,
   "metadata": {},
   "outputs": [],
   "source": [
    "inputFolderMultimedia = '../data/source/multimedia/'\n",
    "inputFolderObjects = '../data/source/object/'\n",
    "outputFile = 'output/correspondences.csv'"
   ]
  },
  {
   "cell_type": "markdown",
   "metadata": {},
   "source": [
    "Read all multimedia item files"
   ]
  },
  {
   "cell_type": "code",
   "execution_count": 3,
   "metadata": {},
   "outputs": [],
   "source": [
    "multimediaFiles = [f for f in listdir(inputFolderMultimedia) if isfile(join(inputFolderMultimedia, f)) and f.endswith('.xml')]"
   ]
  },
  {
   "cell_type": "markdown",
   "metadata": {},
   "source": [
    "Read all object item files"
   ]
  },
  {
   "cell_type": "code",
   "execution_count": 4,
   "metadata": {},
   "outputs": [],
   "source": [
    "objectFiles = [f for f in listdir(inputFolderObjects) if isfile(join(inputFolderObjects, f)) and f.endswith('.xml')]"
   ]
  },
  {
   "cell_type": "markdown",
   "metadata": {},
   "source": [
    "Initialise dictionary to store data"
   ]
  },
  {
   "cell_type": "code",
   "execution_count": 5,
   "metadata": {},
   "outputs": [],
   "source": [
    "multimediaItems = {}"
   ]
  },
  {
   "cell_type": "markdown",
   "metadata": {},
   "source": [
    "Set limit of number of files to process (only used for debugging)"
   ]
  },
  {
   "cell_type": "code",
   "execution_count": 6,
   "metadata": {},
   "outputs": [],
   "source": [
    "limit = 999999"
   ]
  },
  {
   "cell_type": "markdown",
   "metadata": {},
   "source": [
    "Read multimedia item files and retrieve uuid, id and filename"
   ]
  },
  {
   "cell_type": "code",
   "execution_count": 7,
   "metadata": {},
   "outputs": [
    {
     "name": "stderr",
     "output_type": "stream",
     "text": [
      "100%|██████████| 276698/276698 [01:06<00:00, 4157.97it/s]\n"
     ]
    }
   ],
   "source": [
    "for file in tqdm(multimediaFiles[:limit]):\n",
    "    tree = etree.parse(join(inputFolderMultimedia, file))\n",
    "    uuid = tree.find('.//{http://www.zetcom.com/ria/ws/module}moduleItem').get('uuid')\n",
    "    if not uuid in multimediaItems:\n",
    "        multimediaItems[uuid] = {}\n",
    "    # Retrieve filename\n",
    "    filenameElement = tree.find('.//{http://www.zetcom.com/ria/ws/module}dataField[@name=\"MulOriginalFileTxt\"]/{http://www.zetcom.com/ria/ws/module}value')        \n",
    "    if filenameElement is not None:\n",
    "        multimediaItems[uuid]['filename'] = filenameElement.text\n",
    "    # Retrieve module ID\n",
    "    multimediaItems[uuid]['moduleId'] = tree.find('.//{http://www.zetcom.com/ria/ws/module}moduleItem').get('id')"
   ]
  },
  {
   "cell_type": "markdown",
   "metadata": {},
   "source": [
    "Read object item files and retreive uuid and id of linked objects as well as multimedia item data that might be missing"
   ]
  },
  {
   "cell_type": "code",
   "execution_count": 8,
   "metadata": {},
   "outputs": [
    {
     "name": "stderr",
     "output_type": "stream",
     "text": [
      "100%|██████████| 89630/89630 [01:00<00:00, 1474.44it/s]\n"
     ]
    }
   ],
   "source": [
    "for file in tqdm(objectFiles[:limit]):\n",
    "    tree = etree.parse(join(inputFolderObjects, file))\n",
    "    # Retrieve object uuid\n",
    "    objectUuid = tree.find('.//{http://www.zetcom.com/ria/ws/module}moduleItem').get('uuid')\n",
    "    # Retrieve object id\n",
    "    objectId = tree.find('.//{http://www.zetcom.com/ria/ws/module}moduleItem').get('id')\n",
    "    # Retrieve inventory number\n",
    "    #objectInvNr = tree.find('.//{http://www.zetcom.com/ria/ws/module}dataField[@name=\"ObjObjectNumberTxt\"]/{http://www.zetcom.com/ria/ws/module}value')\n",
    "    try:\n",
    "        objectInvNr = tree.find('.//{http://www.zetcom.com/ria/ws/module}repeatableGroup[@name=\"ObjObjectNumberGrp\"]/{http://www.zetcom.com/ria/ws/module}repeatableGroupItem/{http://www.zetcom.com/ria/ws/module}virtualField[@name=\"NumberVrt\"]/{http://www.zetcom.com/ria/ws/module}value').text.strip()\n",
    "    except:\n",
    "        objectInvNr = ''\n",
    "    # Retrieve linked multimedia items\n",
    "    moduleReferenceItems = tree.findall('.//{http://www.zetcom.com/ria/ws/module}moduleReference[@name=\"ObjMultimediaRef\"]/{http://www.zetcom.com/ria/ws/module}moduleReferenceItem')\n",
    "    for moduleReferenceItem in moduleReferenceItems:\n",
    "        # Get uuid of multimedia item\n",
    "        uuid = moduleReferenceItem.get('uuid')\n",
    "        # Get id of multimedia item\n",
    "        multimediaModuleId = moduleReferenceItem.get('moduleItemId')\n",
    "        # Create entry if it does not exist yet\n",
    "        if not uuid in multimediaItems:\n",
    "            multimediaItems[uuid] = {}\n",
    "        # Add object Ids\n",
    "        if not 'objectIds' in multimediaItems[uuid]:\n",
    "            multimediaItems[uuid]['objectIds'] = []\n",
    "        multimediaItems[uuid]['objectIds'].append(objectId)\n",
    "        # Add object uuids\n",
    "        if not 'objectUuids' in multimediaItems[uuid]:\n",
    "            multimediaItems[uuid]['objectUuids'] = []\n",
    "        multimediaItems[uuid]['objectUuids'].append(objectUuid)\n",
    "        # Add object inv. nrs.\n",
    "        if not 'objectInvNrs' in multimediaItems[uuid]:\n",
    "            multimediaItems[uuid]['objectInvNrs'] = []\n",
    "        multimediaItems[uuid]['objectInvNrs'].append(objectInvNr)\n",
    "        # If filename is not present, retrieve from formatted value\n",
    "        if not 'filename' in multimediaItems[uuid]:\n",
    "            # Get filename from object\n",
    "            filenameElement = moduleReferenceItem.find('./{http://www.zetcom.com/ria/ws/module}formattedValue')\n",
    "            \n",
    "            if filenameElement is not None:\n",
    "                if len(filenameElement.text.split(', ')) > 1:\n",
    "                    multimediaItems[uuid]['filename'] = filenameElement.text.split(', ')[1]"
   ]
  },
  {
   "cell_type": "markdown",
   "metadata": {},
   "source": [
    "Sort uuids for output"
   ]
  },
  {
   "cell_type": "code",
   "execution_count": 9,
   "metadata": {},
   "outputs": [],
   "source": [
    "uuids = sorted(multimediaItems.keys())"
   ]
  },
  {
   "cell_type": "markdown",
   "metadata": {},
   "source": [
    "Write output to csv file"
   ]
  },
  {
   "cell_type": "code",
   "execution_count": 10,
   "metadata": {},
   "outputs": [],
   "source": [
    "with open(outputFile, 'w') as f:\n",
    "    writer = DictWriter(f, fieldnames=('uuid' ,'filename','multimediaId','objectUuids','objectIds','objectInvNrs'))\n",
    "    writer.writeheader()\n",
    "    for uuid in uuids:\n",
    "        item = multimediaItems[uuid]\n",
    "        row = {\n",
    "            'uuid': uuid,\n",
    "            'filename': item['filename'] if 'filename' in item else '',\n",
    "            'multimediaId': item['moduleId'] if 'moduleId' in item else '',\n",
    "            'objectUuids': ';'.join(item['objectUuids']) if 'objectUuids' in item else '',\n",
    "            'objectIds': ';'.join(item['objectIds']) if 'objectIds' in item else '',\n",
    "            'objectInvNrs': ';'.join(item['objectInvNrs']) if 'objectInvNrs' in item else ''\n",
    "        }\n",
    "        writer.writerow(row)"
   ]
  },
  {
   "cell_type": "code",
   "execution_count": null,
   "metadata": {},
   "outputs": [],
   "source": []
  }
 ],
 "metadata": {
  "kernelspec": {
   "display_name": "Python 3",
   "language": "python",
   "name": "python3"
  },
  "language_info": {
   "codemirror_mode": {
    "name": "ipython",
    "version": 3
   },
   "file_extension": ".py",
   "mimetype": "text/x-python",
   "name": "python",
   "nbconvert_exporter": "python",
   "pygments_lexer": "ipython3",
   "version": "3.7.3"
  }
 },
 "nbformat": 4,
 "nbformat_minor": 2
}
