{
 "cells": [
  {
   "cell_type": "code",
   "execution_count": 1,
   "metadata": {},
   "outputs": [],
   "source": [
    "from csv import DictWriter\n",
    "from lxml import etree\n",
    "from os import listdir\n",
    "from os.path import isfile, join\n",
    "from tqdm import tqdm"
   ]
  },
  {
   "cell_type": "code",
   "execution_count": 2,
   "metadata": {},
   "outputs": [],
   "source": [
    "inputFolder = '../data/source/multimedia/'\n",
    "outputFile = 'output/correspondences.csv'"
   ]
  },
  {
   "cell_type": "code",
   "execution_count": 3,
   "metadata": {},
   "outputs": [],
   "source": [
    "files = [f for f in listdir(inputFolder) if isfile(join(inputFolder, f)) and f.endswith('.xml')]"
   ]
  },
  {
   "cell_type": "code",
   "execution_count": 4,
   "metadata": {},
   "outputs": [],
   "source": [
    "results = []"
   ]
  },
  {
   "cell_type": "code",
   "execution_count": 5,
   "metadata": {},
   "outputs": [
    {
     "name": "stderr",
     "output_type": "stream",
     "text": [
      "100%|██████████| 299371/299371 [01:05<00:00, 4554.17it/s]\n"
     ]
    }
   ],
   "source": [
    "for file in tqdm(files):\n",
    "    tree = etree.parse(join(inputFolder, file))\n",
    "    uuid = tree.find('.//{http://www.zetcom.com/ria/ws/module}moduleItem').get('uuid')\n",
    "    filenameElement = tree.find('.//{http://www.zetcom.com/ria/ws/module}dataField[@name=\"MulOriginalFileTxt\"]/{http://www.zetcom.com/ria/ws/module}value')\n",
    "    if filenameElement is not None:\n",
    "        filename = filenameElement.text\n",
    "        results.append({\n",
    "            'uuid': uuid,\n",
    "            'filename': filename\n",
    "        })"
   ]
  },
  {
   "cell_type": "code",
   "execution_count": 6,
   "metadata": {},
   "outputs": [],
   "source": [
    "results = sorted(results, key=lambda x: x['uuid'])"
   ]
  },
  {
   "cell_type": "code",
   "execution_count": 7,
   "metadata": {},
   "outputs": [],
   "source": [
    "with open(outputFile, 'w') as f:\n",
    "    writer = DictWriter(f, fieldnames=('uuid' ,'filename'))\n",
    "    writer.writeheader()\n",
    "    for row in results:\n",
    "        writer.writerow(row)"
   ]
  }
 ],
 "metadata": {
  "kernelspec": {
   "display_name": "Python 3",
   "language": "python",
   "name": "python3"
  },
  "language_info": {
   "codemirror_mode": {
    "name": "ipython",
    "version": 3
   },
   "file_extension": ".py",
   "mimetype": "text/x-python",
   "name": "python",
   "nbconvert_exporter": "python",
   "pygments_lexer": "ipython3",
   "version": "3.7.3"
  }
 },
 "nbformat": 4,
 "nbformat_minor": 2
}
