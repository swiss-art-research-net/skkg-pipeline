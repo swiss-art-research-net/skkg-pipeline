{
 "cells": [
  {
   "cell_type": "code",
   "execution_count": 1,
   "metadata": {},
   "outputs": [],
   "source": [
    "from csv import DictWriter\n",
    "from lxml import etree\n",
    "from os import listdir\n",
    "from os.path import isfile, join\n",
    "from tqdm import tqdm"
   ]
  },
  {
   "cell_type": "code",
   "execution_count": 2,
   "metadata": {},
   "outputs": [],
   "source": [
    "inputFolderMultimedia = '../data/source/multimedia/'\n",
    "inputFolderObjects = '../data/source/object/'\n",
    "outputFile = 'output/correspondences.csv'"
   ]
  },
  {
   "cell_type": "markdown",
   "metadata": {},
   "source": [
    "Read all multimedia item files"
   ]
  },
  {
   "cell_type": "code",
   "execution_count": 3,
   "metadata": {},
   "outputs": [],
   "source": [
    "multimediaFiles = [f for f in listdir(inputFolderMultimedia) if isfile(join(inputFolderMultimedia, f)) and f.endswith('.xml')]"
   ]
  },
  {
   "cell_type": "markdown",
   "metadata": {},
   "source": [
    "Read all object item files"
   ]
  },
  {
   "cell_type": "code",
   "execution_count": 4,
   "metadata": {},
   "outputs": [],
   "source": [
    "objectFiles = [f for f in listdir(inputFolderObjects) if isfile(join(inputFolderObjects, f)) and f.endswith('.xml')]"
   ]
  },
  {
   "cell_type": "markdown",
   "metadata": {},
   "source": [
    "Initialise dictionary to store data"
   ]
  },
  {
   "cell_type": "code",
   "execution_count": 5,
   "metadata": {},
   "outputs": [],
   "source": [
    "multimediaItems = {}"
   ]
  },
  {
   "cell_type": "markdown",
   "metadata": {},
   "source": [
    "Set limit of number of files to process (only used for debugging)"
   ]
  },
  {
   "cell_type": "code",
   "execution_count": 6,
   "metadata": {},
   "outputs": [],
   "source": [
    "limit = 999999"
   ]
  },
  {
   "cell_type": "markdown",
   "metadata": {},
   "source": [
    "Read multimedia item files and retrieve uuid, id and filename"
   ]
  },
  {
   "cell_type": "code",
   "execution_count": 7,
   "metadata": {},
   "outputs": [
    {
     "name": "stderr",
     "output_type": "stream",
     "text": [
      "100%|██████████| 188545/188545 [00:40<00:00, 4615.51it/s]\n"
     ]
    }
   ],
   "source": [
    "for file in tqdm(multimediaFiles[:limit]):\n",
    "    tree = etree.parse(join(inputFolderMultimedia, file))\n",
    "    uuid = tree.find('.//{http://www.zetcom.com/ria/ws/module}moduleItem').get('uuid')\n",
    "    if not uuid in multimediaItems:\n",
    "        multimediaItems[uuid] = {}\n",
    "    # Retrieve filename\n",
    "    filenameElement = tree.find('.//{http://www.zetcom.com/ria/ws/module}dataField[@name=\"MulOriginalFileTxt\"]/{http://www.zetcom.com/ria/ws/module}value')        \n",
    "    if filenameElement is not None:\n",
    "        multimediaItems[uuid]['filename'] = filenameElement.text\n",
    "    # Retrieve module ID\n",
    "    multimediaItems[uuid]['moduleId'] = tree.find('.//{http://www.zetcom.com/ria/ws/module}moduleItem').get('id')"
   ]
  },
  {
   "cell_type": "markdown",
   "metadata": {},
   "source": [
    "Read object item files and retreive uuid and id of linked objects"
   ]
  },
  {
   "cell_type": "code",
   "execution_count": 8,
   "metadata": {},
   "outputs": [
    {
     "name": "stderr",
     "output_type": "stream",
     "text": [
      "100%|██████████| 89738/89738 [00:58<00:00, 1531.12it/s]\n"
     ]
    }
   ],
   "source": [
    "for file in tqdm(objectFiles[:limit]):\n",
    "    tree = etree.parse(join(inputFolderObjects, file))\n",
    "    # Retrieve object uuid\n",
    "    objectUuid = tree.find('.//{http://www.zetcom.com/ria/ws/module}moduleItem').get('uuid')\n",
    "    # Retrieve object id\n",
    "    objectId = tree.find('.//{http://www.zetcom.com/ria/ws/module}moduleItem').get('id')\n",
    "    # Retrieve inventory number\n",
    "    #objectInvNr = tree.find('.//{http://www.zetcom.com/ria/ws/module}dataField[@name=\"ObjObjectNumberTxt\"]/{http://www.zetcom.com/ria/ws/module}value')\n",
    "    try:\n",
    "        objectInvNr = tree.find('.//{http://www.zetcom.com/ria/ws/module}repeatableGroup[@name=\"ObjObjectNumberGrp\"]/{http://www.zetcom.com/ria/ws/module}repeatableGroupItem/{http://www.zetcom.com/ria/ws/module}virtualField[@name=\"NumberVrt\"]/{http://www.zetcom.com/ria/ws/module}value').text.strip()\n",
    "    except:\n",
    "        objectInvNr = ''\n",
    "    # Retrieve linked multimedia items\n",
    "    moduleReferenceItems = tree.findall('.//{http://www.zetcom.com/ria/ws/module}moduleReference[@name=\"ObjMultimediaRef\"]/{http://www.zetcom.com/ria/ws/module}moduleReferenceItem')\n",
    "    for moduleReferenceItem in moduleReferenceItems:\n",
    "        # Get uuid of multimedia item\n",
    "        uuid = moduleReferenceItem.get('uuid')\n",
    "        # Get id of multimedia item\n",
    "        multimediaModuleId = moduleReferenceItem.get('moduleItemId')\n",
    "        # Update entry only if it exists already\n",
    "        if not uuid in multimediaItems:\n",
    "            continue\n",
    "        # Add object Ids\n",
    "        if not 'objectIds' in multimediaItems[uuid]:\n",
    "            multimediaItems[uuid]['objectIds'] = []\n",
    "        multimediaItems[uuid]['objectIds'].append(objectId)\n",
    "        # Add object uuids\n",
    "        if not 'objectUuids' in multimediaItems[uuid]:\n",
    "            multimediaItems[uuid]['objectUuids'] = []\n",
    "        multimediaItems[uuid]['objectUuids'].append(objectUuid)\n",
    "        # Add object inv. nrs.\n",
    "        if not 'objectInvNrs' in multimediaItems[uuid]:\n",
    "            multimediaItems[uuid]['objectInvNrs'] = []\n",
    "        multimediaItems[uuid]['objectInvNrs'].append(objectInvNr)\n",
    "        # If filename is not present, retrieve from formatted value\n",
    "        if not 'filename' in multimediaItems[uuid]:\n",
    "            # Get filename from object\n",
    "            filenameElement = moduleReferenceItem.find('./{http://www.zetcom.com/ria/ws/module}formattedValue')\n",
    "            \n",
    "            if filenameElement is not None:\n",
    "                if len(filenameElement.text.split(', ')) > 1:\n",
    "                    multimediaItems[uuid]['filename'] = filenameElement.text.split(', ')[1]"
   ]
  },
  {
   "cell_type": "markdown",
   "metadata": {},
   "source": [
    "Sort uuids for output"
   ]
  },
  {
   "cell_type": "code",
   "execution_count": 9,
   "metadata": {},
   "outputs": [],
   "source": [
    "uuids = sorted(multimediaItems.keys())"
   ]
  },
  {
   "cell_type": "markdown",
   "metadata": {},
   "source": [
    "Write output to csv file"
   ]
  },
  {
   "cell_type": "code",
   "execution_count": 10,
   "metadata": {},
   "outputs": [],
   "source": [
    "with open(outputFile, 'w') as f:\n",
    "    writer = DictWriter(f, fieldnames=('uuid' ,'filename','multimediaId','objectUuids','objectIds','objectInvNrs'))\n",
    "    writer.writeheader()\n",
    "    for uuid in uuids:\n",
    "        item = multimediaItems[uuid]\n",
    "        row = {\n",
    "            'uuid': uuid,\n",
    "            'filename': item['filename'] if 'filename' in item else '',\n",
    "            'multimediaId': item['moduleId'] if 'moduleId' in item else '',\n",
    "            'objectUuids': ';'.join(item['objectUuids']) if 'objectUuids' in item else '',\n",
    "            'objectIds': ';'.join(item['objectIds']) if 'objectIds' in item else '',\n",
    "            'objectInvNrs': ';'.join(item['objectInvNrs']) if 'objectInvNrs' in item else ''\n",
    "        }\n",
    "        writer.writerow(row)"
   ]
  },
  {
   "cell_type": "markdown",
   "metadata": {},
   "source": [
    "# Read and analyse"
   ]
  },
  {
   "cell_type": "code",
   "execution_count": 11,
   "metadata": {},
   "outputs": [
    {
     "name": "stderr",
     "output_type": "stream",
     "text": [
      "/Users/fkraeutli/anaconda3/lib/python3.7/site-packages/pandas/compat/_optional.py:138: UserWarning: Pandas requires version '2.7.0' or newer of 'numexpr' (version '2.6.9' currently installed).\n",
      "  warnings.warn(msg, UserWarning)\n"
     ]
    }
   ],
   "source": [
    "import pandas as pd"
   ]
  },
  {
   "cell_type": "code",
   "execution_count": 12,
   "metadata": {},
   "outputs": [],
   "source": [
    "df = pd.read_csv(outputFile)"
   ]
  },
  {
   "cell_type": "code",
   "execution_count": 13,
   "metadata": {},
   "outputs": [
    {
     "data": {
      "text/html": [
       "<div>\n",
       "<style scoped>\n",
       "    .dataframe tbody tr th:only-of-type {\n",
       "        vertical-align: middle;\n",
       "    }\n",
       "\n",
       "    .dataframe tbody tr th {\n",
       "        vertical-align: top;\n",
       "    }\n",
       "\n",
       "    .dataframe thead th {\n",
       "        text-align: right;\n",
       "    }\n",
       "</style>\n",
       "<table border=\"1\" class=\"dataframe\">\n",
       "  <thead>\n",
       "    <tr style=\"text-align: right;\">\n",
       "      <th></th>\n",
       "      <th>uuid</th>\n",
       "      <th>filename</th>\n",
       "      <th>multimediaId</th>\n",
       "      <th>objectUuids</th>\n",
       "      <th>objectIds</th>\n",
       "      <th>objectInvNrs</th>\n",
       "    </tr>\n",
       "  </thead>\n",
       "  <tbody>\n",
       "    <tr>\n",
       "      <th>0</th>\n",
       "      <td>0000171c-c721-4c4d-ac3a-52f915ce8565</td>\n",
       "      <td>6506.1.jpg</td>\n",
       "      <td>56723</td>\n",
       "      <td>7291</td>\n",
       "      <td>5523</td>\n",
       "      <td>6506</td>\n",
       "    </tr>\n",
       "    <tr>\n",
       "      <th>1</th>\n",
       "      <td>00001a4c-4d10-4860-8b95-4e4a4c08afc1</td>\n",
       "      <td>lit_15383.0.2.jpg</td>\n",
       "      <td>187815</td>\n",
       "      <td>NaN</td>\n",
       "      <td>NaN</td>\n",
       "      <td>NaN</td>\n",
       "    </tr>\n",
       "    <tr>\n",
       "      <th>2</th>\n",
       "      <td>000069aa-bdfb-4630-b533-59a42894a548</td>\n",
       "      <td>lit_11318.0.jpg</td>\n",
       "      <td>144585</td>\n",
       "      <td>NaN</td>\n",
       "      <td>NaN</td>\n",
       "      <td>NaN</td>\n",
       "    </tr>\n",
       "    <tr>\n",
       "      <th>3</th>\n",
       "      <td>0000a8a7-073d-4bde-9fd7-1867d52249c1</td>\n",
       "      <td>31471.0.1.jpg</td>\n",
       "      <td>158894</td>\n",
       "      <td>bd1587e2-b5a0-4974-8ca5-086155fd0e73</td>\n",
       "      <td>69800</td>\n",
       "      <td>31471</td>\n",
       "    </tr>\n",
       "    <tr>\n",
       "      <th>4</th>\n",
       "      <td>000125ea-11ba-413d-af3b-1539cf2de123</td>\n",
       "      <td>10883.02.1.jpg</td>\n",
       "      <td>35212</td>\n",
       "      <td>18644ada-4350-44ae-818f-617465b9c1e5</td>\n",
       "      <td>21170</td>\n",
       "      <td>10883.2</td>\n",
       "    </tr>\n",
       "    <tr>\n",
       "      <th>...</th>\n",
       "      <td>...</td>\n",
       "      <td>...</td>\n",
       "      <td>...</td>\n",
       "      <td>...</td>\n",
       "      <td>...</td>\n",
       "      <td>...</td>\n",
       "    </tr>\n",
       "    <tr>\n",
       "      <th>188540</th>\n",
       "      <td>fffe75ab-62ca-4e9f-ae92-e2b76ace0801</td>\n",
       "      <td>GB-0078.0.jpg</td>\n",
       "      <td>133154</td>\n",
       "      <td>11142</td>\n",
       "      <td>12523</td>\n",
       "      <td>GB-0078</td>\n",
       "    </tr>\n",
       "    <tr>\n",
       "      <th>188541</th>\n",
       "      <td>fffebe6f-384b-4e16-a2dd-1ace7c262f3d</td>\n",
       "      <td>18833.0.3.jpg</td>\n",
       "      <td>76647</td>\n",
       "      <td>2db0c2ee-bed6-47a3-87a7-88b4d29201ac</td>\n",
       "      <td>45010</td>\n",
       "      <td>18833</td>\n",
       "    </tr>\n",
       "    <tr>\n",
       "      <th>188542</th>\n",
       "      <td>fffecc3f-4844-466e-b47a-77820c1c0b1a</td>\n",
       "      <td>lit_8558.0.jpg</td>\n",
       "      <td>129863</td>\n",
       "      <td>NaN</td>\n",
       "      <td>NaN</td>\n",
       "      <td>NaN</td>\n",
       "    </tr>\n",
       "    <tr>\n",
       "      <th>188543</th>\n",
       "      <td>ffff013e-8fda-46d2-b9d8-c663e8b9dfb3</td>\n",
       "      <td>10311.0.jpg</td>\n",
       "      <td>32861</td>\n",
       "      <td>597c8add-75f7-4083-b7f9-674f0a75d6ff</td>\n",
       "      <td>19845</td>\n",
       "      <td>10311</td>\n",
       "    </tr>\n",
       "    <tr>\n",
       "      <th>188544</th>\n",
       "      <td>ffff925f-ef89-47db-97c2-1fd9d3b73786</td>\n",
       "      <td>22039.4.0.jpg</td>\n",
       "      <td>90329</td>\n",
       "      <td>7bce5488-2dc7-46c6-a007-c380ba2e5634</td>\n",
       "      <td>51117</td>\n",
       "      <td>22039.4</td>\n",
       "    </tr>\n",
       "  </tbody>\n",
       "</table>\n",
       "<p>188545 rows × 6 columns</p>\n",
       "</div>"
      ],
      "text/plain": [
       "                                        uuid           filename  multimediaId  \\\n",
       "0       0000171c-c721-4c4d-ac3a-52f915ce8565         6506.1.jpg         56723   \n",
       "1       00001a4c-4d10-4860-8b95-4e4a4c08afc1  lit_15383.0.2.jpg        187815   \n",
       "2       000069aa-bdfb-4630-b533-59a42894a548    lit_11318.0.jpg        144585   \n",
       "3       0000a8a7-073d-4bde-9fd7-1867d52249c1      31471.0.1.jpg        158894   \n",
       "4       000125ea-11ba-413d-af3b-1539cf2de123     10883.02.1.jpg         35212   \n",
       "...                                      ...                ...           ...   \n",
       "188540  fffe75ab-62ca-4e9f-ae92-e2b76ace0801      GB-0078.0.jpg        133154   \n",
       "188541  fffebe6f-384b-4e16-a2dd-1ace7c262f3d      18833.0.3.jpg         76647   \n",
       "188542  fffecc3f-4844-466e-b47a-77820c1c0b1a     lit_8558.0.jpg        129863   \n",
       "188543  ffff013e-8fda-46d2-b9d8-c663e8b9dfb3        10311.0.jpg         32861   \n",
       "188544  ffff925f-ef89-47db-97c2-1fd9d3b73786      22039.4.0.jpg         90329   \n",
       "\n",
       "                                 objectUuids objectIds objectInvNrs  \n",
       "0                                       7291      5523         6506  \n",
       "1                                        NaN       NaN          NaN  \n",
       "2                                        NaN       NaN          NaN  \n",
       "3       bd1587e2-b5a0-4974-8ca5-086155fd0e73     69800        31471  \n",
       "4       18644ada-4350-44ae-818f-617465b9c1e5     21170      10883.2  \n",
       "...                                      ...       ...          ...  \n",
       "188540                                 11142     12523      GB-0078  \n",
       "188541  2db0c2ee-bed6-47a3-87a7-88b4d29201ac     45010        18833  \n",
       "188542                                   NaN       NaN          NaN  \n",
       "188543  597c8add-75f7-4083-b7f9-674f0a75d6ff     19845        10311  \n",
       "188544  7bce5488-2dc7-46c6-a007-c380ba2e5634     51117      22039.4  \n",
       "\n",
       "[188545 rows x 6 columns]"
      ]
     },
     "execution_count": 13,
     "metadata": {},
     "output_type": "execute_result"
    }
   ],
   "source": [
    "df"
   ]
  },
  {
   "cell_type": "code",
   "execution_count": 14,
   "metadata": {},
   "outputs": [
    {
     "data": {
      "text/html": [
       "<div>\n",
       "<style scoped>\n",
       "    .dataframe tbody tr th:only-of-type {\n",
       "        vertical-align: middle;\n",
       "    }\n",
       "\n",
       "    .dataframe tbody tr th {\n",
       "        vertical-align: top;\n",
       "    }\n",
       "\n",
       "    .dataframe thead th {\n",
       "        text-align: right;\n",
       "    }\n",
       "</style>\n",
       "<table border=\"1\" class=\"dataframe\">\n",
       "  <thead>\n",
       "    <tr style=\"text-align: right;\">\n",
       "      <th></th>\n",
       "      <th>uuid</th>\n",
       "      <th>filename</th>\n",
       "      <th>multimediaId</th>\n",
       "      <th>objectUuids</th>\n",
       "      <th>objectIds</th>\n",
       "      <th>objectInvNrs</th>\n",
       "    </tr>\n",
       "  </thead>\n",
       "  <tbody>\n",
       "  </tbody>\n",
       "</table>\n",
       "</div>"
      ],
      "text/plain": [
       "Empty DataFrame\n",
       "Columns: [uuid, filename, multimediaId, objectUuids, objectIds, objectInvNrs]\n",
       "Index: []"
      ]
     },
     "execution_count": 14,
     "metadata": {},
     "output_type": "execute_result"
    }
   ],
   "source": [
    "empty_filename_rows = df[df['filename'].isna()]\n",
    "empty_filename_rows"
   ]
  },
  {
   "cell_type": "code",
   "execution_count": 15,
   "metadata": {},
   "outputs": [],
   "source": [
    "empty_filename_rows.to_csv('output/missingFilenames.csv', index=False)"
   ]
  },
  {
   "cell_type": "code",
   "execution_count": null,
   "metadata": {},
   "outputs": [],
   "source": []
  }
 ],
 "metadata": {
  "kernelspec": {
   "display_name": "Python 3",
   "language": "python",
   "name": "python3"
  },
  "language_info": {
   "codemirror_mode": {
    "name": "ipython",
    "version": 3
   },
   "file_extension": ".py",
   "mimetype": "text/x-python",
   "name": "python",
   "nbconvert_exporter": "python",
   "pygments_lexer": "ipython3",
   "version": "3.7.3"
  }
 },
 "nbformat": 4,
 "nbformat_minor": 2
}
