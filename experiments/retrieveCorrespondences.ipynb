{
 "cells": [
  {
   "cell_type": "code",
   "execution_count": 1,
   "metadata": {},
   "outputs": [],
   "source": [
    "from csv import DictWriter\n",
    "from lxml import etree\n",
    "from os import listdir\n",
    "from os.path import isfile, join\n",
    "from tqdm import tqdm"
   ]
  },
  {
   "cell_type": "code",
   "execution_count": 2,
   "metadata": {},
   "outputs": [],
   "source": [
    "inputFolderMultimedia = '../data/source/multimedia/'\n",
    "inputFolderObjects = '../data/source/object/'\n",
    "outputFile = 'output/correspondences.csv'"
   ]
  },
  {
   "cell_type": "code",
   "execution_count": 3,
   "metadata": {},
   "outputs": [],
   "source": [
    "multimediaFiles = [f for f in listdir(inputFolderMultimedia) if isfile(join(inputFolderMultimedia, f)) and f.endswith('.xml')]"
   ]
  },
  {
   "cell_type": "code",
   "execution_count": 4,
   "metadata": {},
   "outputs": [],
   "source": [
    "objectFiles = [f for f in listdir(inputFolderObjects) if isfile(join(inputFolderObjects, f)) and f.endswith('.xml')]"
   ]
  },
  {
   "cell_type": "code",
   "execution_count": 5,
   "metadata": {},
   "outputs": [],
   "source": [
    "multimediaItems = {}"
   ]
  },
  {
   "cell_type": "code",
   "execution_count": 6,
   "metadata": {},
   "outputs": [],
   "source": [
    "limit = 99999999"
   ]
  },
  {
   "cell_type": "code",
   "execution_count": 7,
   "metadata": {},
   "outputs": [
    {
     "name": "stderr",
     "output_type": "stream",
     "text": [
      "100%|██████████| 299984/299984 [01:08<00:00, 4398.16it/s]\n"
     ]
    }
   ],
   "source": [
    "for file in tqdm(multimediaFiles[:limit]):\n",
    "    tree = etree.parse(join(inputFolderMultimedia, file))\n",
    "    uuid = tree.find('.//{http://www.zetcom.com/ria/ws/module}moduleItem').get('uuid')\n",
    "    if not uuid in multimediaItems:\n",
    "        multimediaItems[uuid] = {}\n",
    "    # Retrieve filename\n",
    "    filenameElement = tree.find('.//{http://www.zetcom.com/ria/ws/module}dataField[@name=\"MulOriginalFileTxt\"]/{http://www.zetcom.com/ria/ws/module}value')        \n",
    "    if filenameElement is not None:\n",
    "        multimediaItems[uuid]['filename'] = filenameElement.text\n",
    "    # Retrieve module ID\n",
    "    multimediaItems[uuid]['moduleId'] = tree.find('.//{http://www.zetcom.com/ria/ws/module}moduleItem').get('id')"
   ]
  },
  {
   "cell_type": "code",
   "execution_count": 8,
   "metadata": {},
   "outputs": [
    {
     "name": "stderr",
     "output_type": "stream",
     "text": [
      "100%|██████████| 88487/88487 [00:56<00:00, 1558.78it/s]\n"
     ]
    }
   ],
   "source": [
    "for file in tqdm(objectFiles[:limit]):\n",
    "    tree = etree.parse(join(inputFolderObjects, file))\n",
    "    # Retrieve object uuid\n",
    "    objectUuid = tree.find('.//{http://www.zetcom.com/ria/ws/module}moduleItem').get('uuid')\n",
    "    # Retrieve object id\n",
    "    objectId = tree.find('.//{http://www.zetcom.com/ria/ws/module}moduleItem').get('id')\n",
    "    # Retrieve \n",
    "    moduleReferenceItems = tree.findall('.//{http://www.zetcom.com/ria/ws/module}moduleReference[@name=\"ObjMultimediaRef\"]/{http://www.zetcom.com/ria/ws/module}moduleReferenceItem')\n",
    "    for moduleReferenceItem in moduleReferenceItems:\n",
    "        # Get uuid of multimedia item\n",
    "        uuid = moduleReferenceItem.get('uuid')\n",
    "        # Get id of multimedia item\n",
    "        multimediaModuleId = moduleReferenceItem.get('moduleItemId')\n",
    "        # Create entry if it does not exist yet\n",
    "        if not uuid in multimediaItems:\n",
    "            multimediaItems[uuid] = {}\n",
    "        # Add object Ids\n",
    "        if not 'objectIds' in multimediaItems[uuid]:\n",
    "            multimediaItems[uuid]['objectIds'] = []\n",
    "        multimediaItems[uuid]['objectIds'].append(objectId)\n",
    "        # Add object uuids\n",
    "        if not 'objectUuids' in multimediaItems[uuid]:\n",
    "            multimediaItems[uuid]['objectUuids'] = []\n",
    "        multimediaItems[uuid]['objectUuids'].append(objectUuid)\n",
    "        # If filename is not present, retrieve from formatted value\n",
    "        if not 'filename' in multimediaItems[uuid]:\n",
    "            # Get filename from object\n",
    "            filenameElement = moduleReferenceItem.find('./{http://www.zetcom.com/ria/ws/module}formattedValue')\n",
    "            \n",
    "            if filenameElement is not None:\n",
    "                if len(filenameElement.text.split(', ')) > 1:\n",
    "                    multimediaItems[uuid]['filename'] = filenameElement.text.split(', ')[1]"
   ]
  },
  {
   "cell_type": "code",
   "execution_count": 9,
   "metadata": {},
   "outputs": [],
   "source": [
    "uuids = sorted(multimediaItems.keys())"
   ]
  },
  {
   "cell_type": "code",
   "execution_count": 11,
   "metadata": {},
   "outputs": [],
   "source": [
    "with open(outputFile, 'w') as f:\n",
    "    writer = DictWriter(f, fieldnames=('uuid' ,'filename','multimediaId','objectUuids','objectIds'))\n",
    "    writer.writeheader()\n",
    "    for uuid in uuids:\n",
    "        item = multimediaItems[uuid]\n",
    "        row = {\n",
    "            'uuid': uuid,\n",
    "            'filename': item['filename'] if 'filename' in item else '',\n",
    "            'multimediaId': item['moduleId'] if 'moduleId' in item else '',\n",
    "            'objectUuids': ';'.join(item['objectUuids']) if 'objectUuids' in item else '',\n",
    "            'objectIds': ';'.join(item['objectIds']) if 'objectIds' in item else ''\n",
    "        }\n",
    "        writer.writerow(row)"
   ]
  },
  {
   "cell_type": "code",
   "execution_count": null,
   "metadata": {},
   "outputs": [],
   "source": []
  }
 ],
 "metadata": {
  "kernelspec": {
   "display_name": "Python 3",
   "language": "python",
   "name": "python3"
  },
  "language_info": {
   "codemirror_mode": {
    "name": "ipython",
    "version": 3
   },
   "file_extension": ".py",
   "mimetype": "text/x-python",
   "name": "python",
   "nbconvert_exporter": "python",
   "pygments_lexer": "ipython3",
   "version": "3.7.3"
  }
 },
 "nbformat": 4,
 "nbformat_minor": 2
}
