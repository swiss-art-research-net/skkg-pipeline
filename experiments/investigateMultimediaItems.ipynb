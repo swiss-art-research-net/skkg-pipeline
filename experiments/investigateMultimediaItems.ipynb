{
 "cells": [
  {
   "cell_type": "code",
   "execution_count": 1,
   "metadata": {},
   "outputs": [],
   "source": [
    "import sys\n",
    "sys.path.append('../scripts')"
   ]
  },
  {
   "cell_type": "code",
   "execution_count": 2,
   "metadata": {},
   "outputs": [],
   "source": [
    "import os\n",
    "from dotenv import load_dotenv\n",
    "from os import path\n",
    "from tqdm import tqdm\n",
    "\n",
    "from lib.Metadata import ItemMetadata\n",
    "from lib.MuseumPlusConnector import MPWrapper"
   ]
  },
  {
   "cell_type": "code",
   "execution_count": 3,
   "metadata": {},
   "outputs": [],
   "source": [
    "# List of multimedia item UUIDs to investigate\n",
    "multimedia = \"\"\"0007caad-e89e-41ce-872c-eeb45895f0d9\n",
    "004898da-8934-4f85-9e0b-c873daef023b\n",
    "00930ceb-4eff-4d25-b5c2-57a31779a0b0\n",
    "00adf9bb-6093-40f1-9604-e6bb340a931b\n",
    "00d8957b-a570-4925-930b-3819e6b150d2\n",
    "01189aae-4cb0-4514-9911-cad372c20b6b\n",
    "012b67ba-e0b8-41ab-b4b3-7d47850246b7\n",
    "0146ee9b-88cf-4c73-9cb7-665ba5aeb4ee\n",
    "015cb363-8eef-4d29-af94-abd667e0669f\n",
    "01b85d8b-b74b-4d6f-aec1-1a1394484d3a\n",
    "01f00645-7d9f-41ec-9b8b-83b025e2b97b\n",
    "020709f6-7e42-4b00-aaa7-57327a2ff055\n",
    "0209a504-d206-4a2f-a913-0d18ba3796a5\n",
    "0258fd72-3903-4ba1-a735-89c932fe3035\n",
    "02eaf25d-b1e4-42be-9ae0-9f9dc264e6d1\n",
    "035fd86c-5e7f-41d3-b223-fbc23764e02b\n",
    "03f8d5b7-5889-4163-af1f-b3b6d605b933\n",
    "043bd02f-13c3-4361-adde-b6c22bda4ab3\n",
    "0465f0f6-ca13-4f7d-ade8-955ba71f2667\n",
    "049899ee-0ed4-499f-bea9-69fa0ed4038e\n",
    "04a4a3a8-aee2-4b89-be76-026af9a3e211\n",
    "05420fa2-0889-41c2-a7dd-21b1de784d39\n",
    "05475e7a-1962-41b8-8de6-2fe8451399e9\n",
    "05503ec9-bfd1-4ad6-a298-478e6a6567e7\n",
    "060bcb9d-c161-4a55-ae94-39ebc1ee948b\n",
    "069ab114-5871-47e7-8d4f-0a259b3573a0\n",
    "0796d1d2-a2d6-42be-8a93-0aa983707331\n",
    "07a96036-b1c9-4d80-b193-feb87161adb1\n",
    "07c86ae6-3a9c-43f9-92ad-59a7e84d18bf\n",
    "081929ea-c76b-4ea4-808b-1bbea7202627\"\"\""
   ]
  },
  {
   "cell_type": "code",
   "execution_count": 4,
   "metadata": {},
   "outputs": [],
   "source": [
    "sourceDir = '../data/source/'"
   ]
  },
  {
   "cell_type": "code",
   "execution_count": 5,
   "metadata": {},
   "outputs": [],
   "source": [
    "dotenvPath = '../.env'\n",
    "load_dotenv(dotenvPath)\n",
    "\n",
    "host = os.getenv('MUSEUMPLUS_URL')\n",
    "username = os.getenv('MUSEUMPLUS_USERNAME')\n",
    "password = os.getenv('MUSEUMPLUS_PASSWORD')"
   ]
  },
  {
   "cell_type": "code",
   "execution_count": 6,
   "metadata": {},
   "outputs": [],
   "source": [
    "client = MPWrapper(url=host, username=username, password=password)"
   ]
  },
  {
   "cell_type": "code",
   "execution_count": 7,
   "metadata": {},
   "outputs": [],
   "source": [
    "multimediaUUIDs = multimedia.split(\"\\n\")\n",
    "multimediaFiles = [f'multimedia-item-%s.xml' % d for d in multimediaUUIDs]"
   ]
  },
  {
   "cell_type": "code",
   "execution_count": 8,
   "metadata": {},
   "outputs": [
    {
     "name": "stdout",
     "output_type": "stream",
     "text": [
      "The file multimedia-item-0007caad-e89e-41ce-872c-eeb45895f0d9.xml does not exist.\n",
      "The file multimedia-item-004898da-8934-4f85-9e0b-c873daef023b.xml does not exist.\n",
      "The file multimedia-item-00930ceb-4eff-4d25-b5c2-57a31779a0b0.xml does not exist.\n",
      "The file multimedia-item-00adf9bb-6093-40f1-9604-e6bb340a931b.xml does not exist.\n",
      "The file multimedia-item-00d8957b-a570-4925-930b-3819e6b150d2.xml does not exist.\n",
      "The file multimedia-item-01189aae-4cb0-4514-9911-cad372c20b6b.xml does not exist.\n",
      "The file multimedia-item-012b67ba-e0b8-41ab-b4b3-7d47850246b7.xml does not exist.\n",
      "The file multimedia-item-0146ee9b-88cf-4c73-9cb7-665ba5aeb4ee.xml does not exist.\n",
      "The file multimedia-item-015cb363-8eef-4d29-af94-abd667e0669f.xml does not exist.\n",
      "The file multimedia-item-01b85d8b-b74b-4d6f-aec1-1a1394484d3a.xml does not exist.\n",
      "The file multimedia-item-01f00645-7d9f-41ec-9b8b-83b025e2b97b.xml does not exist.\n",
      "The file multimedia-item-020709f6-7e42-4b00-aaa7-57327a2ff055.xml does not exist.\n",
      "The file multimedia-item-0209a504-d206-4a2f-a913-0d18ba3796a5.xml does not exist.\n",
      "The file multimedia-item-0258fd72-3903-4ba1-a735-89c932fe3035.xml does not exist.\n",
      "The file multimedia-item-02eaf25d-b1e4-42be-9ae0-9f9dc264e6d1.xml does not exist.\n",
      "The file multimedia-item-035fd86c-5e7f-41d3-b223-fbc23764e02b.xml does not exist.\n",
      "The file multimedia-item-03f8d5b7-5889-4163-af1f-b3b6d605b933.xml does not exist.\n",
      "The file multimedia-item-043bd02f-13c3-4361-adde-b6c22bda4ab3.xml does not exist.\n",
      "The file multimedia-item-0465f0f6-ca13-4f7d-ade8-955ba71f2667.xml does not exist.\n",
      "The file multimedia-item-049899ee-0ed4-499f-bea9-69fa0ed4038e.xml does not exist.\n",
      "The file multimedia-item-04a4a3a8-aee2-4b89-be76-026af9a3e211.xml does not exist.\n",
      "The file multimedia-item-05420fa2-0889-41c2-a7dd-21b1de784d39.xml exists.\n",
      "The file multimedia-item-05475e7a-1962-41b8-8de6-2fe8451399e9.xml does not exist.\n",
      "The file multimedia-item-05503ec9-bfd1-4ad6-a298-478e6a6567e7.xml does not exist.\n",
      "The file multimedia-item-060bcb9d-c161-4a55-ae94-39ebc1ee948b.xml does not exist.\n",
      "The file multimedia-item-069ab114-5871-47e7-8d4f-0a259b3573a0.xml does not exist.\n",
      "The file multimedia-item-0796d1d2-a2d6-42be-8a93-0aa983707331.xml does not exist.\n",
      "The file multimedia-item-07a96036-b1c9-4d80-b193-feb87161adb1.xml does not exist.\n",
      "The file multimedia-item-07c86ae6-3a9c-43f9-92ad-59a7e84d18bf.xml does not exist.\n",
      "The file multimedia-item-081929ea-c76b-4ea4-808b-1bbea7202627.xml does not exist.\n"
     ]
    }
   ],
   "source": [
    "for filename in multimediaFiles:\n",
    "    if path.exists(path.join(sourceDir, 'multimedia', filename)):\n",
    "        print(f\"The file {filename} exists.\")\n",
    "    else:\n",
    "        print(f\"The file {filename} does not exist.\")   "
   ]
  },
  {
   "cell_type": "code",
   "execution_count": 9,
   "metadata": {},
   "outputs": [
    {
     "name": "stderr",
     "output_type": "stream",
     "text": [
      "100%|██████████| 30/30 [00:04<00:00,  6.90it/s]\n"
     ]
    }
   ],
   "source": [
    "multimediaItemExists = {}\n",
    "for identifier in tqdm(multimediaUUIDs):\n",
    "    multimediaItemExists[identifier] = client.existsItem(module=\"Multimedia\", uuid=identifier)"
   ]
  },
  {
   "cell_type": "code",
   "execution_count": 10,
   "metadata": {},
   "outputs": [
    {
     "name": "stdout",
     "output_type": "stream",
     "text": [
      "The item 0007caad-e89e-41ce-872c-eeb45895f0d9 does not exist in Museumplus\n",
      "The item 004898da-8934-4f85-9e0b-c873daef023b does not exist in Museumplus\n",
      "The item 00930ceb-4eff-4d25-b5c2-57a31779a0b0 does not exist in Museumplus\n",
      "The item 00adf9bb-6093-40f1-9604-e6bb340a931b does not exist in Museumplus\n",
      "The item 00d8957b-a570-4925-930b-3819e6b150d2 does not exist in Museumplus\n",
      "The item 01189aae-4cb0-4514-9911-cad372c20b6b does not exist in Museumplus\n",
      "The item 012b67ba-e0b8-41ab-b4b3-7d47850246b7 does not exist in Museumplus\n",
      "The item 0146ee9b-88cf-4c73-9cb7-665ba5aeb4ee does not exist in Museumplus\n",
      "The item 015cb363-8eef-4d29-af94-abd667e0669f does not exist in Museumplus\n",
      "The item 01b85d8b-b74b-4d6f-aec1-1a1394484d3a does not exist in Museumplus\n",
      "The item 01f00645-7d9f-41ec-9b8b-83b025e2b97b does not exist in Museumplus\n",
      "The item 020709f6-7e42-4b00-aaa7-57327a2ff055 does not exist in Museumplus\n",
      "The item 0209a504-d206-4a2f-a913-0d18ba3796a5 does not exist in Museumplus\n",
      "The item 0258fd72-3903-4ba1-a735-89c932fe3035 does not exist in Museumplus\n",
      "The item 02eaf25d-b1e4-42be-9ae0-9f9dc264e6d1 does not exist in Museumplus\n",
      "The item 035fd86c-5e7f-41d3-b223-fbc23764e02b does not exist in Museumplus\n",
      "The item 03f8d5b7-5889-4163-af1f-b3b6d605b933 does not exist in Museumplus\n",
      "The item 043bd02f-13c3-4361-adde-b6c22bda4ab3 does not exist in Museumplus\n",
      "The item 0465f0f6-ca13-4f7d-ade8-955ba71f2667 does not exist in Museumplus\n",
      "The item 049899ee-0ed4-499f-bea9-69fa0ed4038e does not exist in Museumplus\n",
      "The item 04a4a3a8-aee2-4b89-be76-026af9a3e211 does not exist in Museumplus\n",
      "The item 05420fa2-0889-41c2-a7dd-21b1de784d39 does not exist in Museumplus\n",
      "The item 05475e7a-1962-41b8-8de6-2fe8451399e9 does not exist in Museumplus\n",
      "The item 05503ec9-bfd1-4ad6-a298-478e6a6567e7 does not exist in Museumplus\n",
      "The item 060bcb9d-c161-4a55-ae94-39ebc1ee948b does not exist in Museumplus\n",
      "The item 069ab114-5871-47e7-8d4f-0a259b3573a0 does not exist in Museumplus\n",
      "The item 0796d1d2-a2d6-42be-8a93-0aa983707331 does not exist in Museumplus\n",
      "The item 07a96036-b1c9-4d80-b193-feb87161adb1 does not exist in Museumplus\n",
      "The item 07c86ae6-3a9c-43f9-92ad-59a7e84d18bf does not exist in Museumplus\n",
      "The item 081929ea-c76b-4ea4-808b-1bbea7202627 does not exist in Museumplus\n"
     ]
    }
   ],
   "source": [
    "for identifier, exists in multimediaItemExists.items():\n",
    "    if exists:\n",
    "        print(f\"The item {identifier} exists in Museumplus\")\n",
    "    else:\n",
    "        print(f\"The item {identifier} does not exist in Museumplus\")"
   ]
  },
  {
   "cell_type": "code",
   "execution_count": null,
   "metadata": {},
   "outputs": [],
   "source": []
  }
 ],
 "metadata": {
  "kernelspec": {
   "display_name": "Python 3",
   "language": "python",
   "name": "python3"
  },
  "language_info": {
   "codemirror_mode": {
    "name": "ipython",
    "version": 3
   },
   "file_extension": ".py",
   "mimetype": "text/x-python",
   "name": "python",
   "nbconvert_exporter": "python",
   "pygments_lexer": "ipython3",
   "version": "3.7.3"
  }
 },
 "nbformat": 4,
 "nbformat_minor": 2
}
